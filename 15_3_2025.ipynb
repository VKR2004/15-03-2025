{
  "nbformat": 4,
  "nbformat_minor": 0,
  "metadata": {
    "colab": {
      "provenance": []
    },
    "kernelspec": {
      "name": "python3",
      "display_name": "Python 3"
    },
    "language_info": {
      "name": "python"
    }
  },
  "cells": [
    {
      "cell_type": "code",
      "execution_count": null,
      "metadata": {
        "id": "npsp0eWyNpcV"
      },
      "outputs": [],
      "source": [
        "import google.generativeai as genai\n",
        "from google.colab import userdata\n",
        "GOOGLE_API_KEY=userdata.get('GOOGLE_API_KEY')\n",
        "genai.configure(api_key=GOOGLE_API_KEY)"
      ]
    },
    {
      "cell_type": "code",
      "source": [
        "pip install PyPDF2"
      ],
      "metadata": {
        "colab": {
          "base_uri": "https://localhost:8080/"
        },
        "id": "rz8qdcCSOMbq",
        "outputId": "4f78035f-6788-46b3-b84c-0aabf567a215"
      },
      "execution_count": null,
      "outputs": [
        {
          "output_type": "stream",
          "name": "stdout",
          "text": [
            "Collecting PyPDF2\n",
            "  Downloading pypdf2-3.0.1-py3-none-any.whl.metadata (6.8 kB)\n",
            "Downloading pypdf2-3.0.1-py3-none-any.whl (232 kB)\n",
            "\u001b[?25l   \u001b[90m━━━━━━━━━━━━━━━━━━━━━━━━━━━━━━━━━━━━━━━━\u001b[0m \u001b[32m0.0/232.6 kB\u001b[0m \u001b[31m?\u001b[0m eta \u001b[36m-:--:--\u001b[0m\r\u001b[2K   \u001b[91m━━━━━━━━━━━━━━━━━━━━━━━━━━━━━━━━━━━━━━\u001b[0m\u001b[91m╸\u001b[0m\u001b[90m━\u001b[0m \u001b[32m225.3/232.6 kB\u001b[0m \u001b[31m7.5 MB/s\u001b[0m eta \u001b[36m0:00:01\u001b[0m\r\u001b[2K   \u001b[90m━━━━━━━━━━━━━━━━━━━━━━━━━━━━━━━━━━━━━━━━\u001b[0m \u001b[32m232.6/232.6 kB\u001b[0m \u001b[31m5.2 MB/s\u001b[0m eta \u001b[36m0:00:00\u001b[0m\n",
            "\u001b[?25hInstalling collected packages: PyPDF2\n",
            "Successfully installed PyPDF2-3.0.1\n"
          ]
        }
      ]
    },
    {
      "cell_type": "code",
      "source": [
        "import PyPDF2\n",
        "def extract_text_from_pdf(pdf_path):\n",
        "  \"\"\"Extract text from a given health report PDF using PyPDF2.\"\"\"\n",
        "  text = \"\"\n",
        "  with open(pdf_path, \"rb\") as pdf_file:\n",
        "    reader = PyPDF2.PdfReader(pdf_file)\n",
        "    for page in reader.pages:\n",
        "      text += page.extract_text()+\"/n\"\n",
        "  return text"
      ],
      "metadata": {
        "id": "ZnrHdMNVOPSA"
      },
      "execution_count": null,
      "outputs": []
    },
    {
      "cell_type": "code",
      "source": [
        "def extract_health_insights(text):\n",
        "  \"\"\"Asks Gemini AI to extract key medical insights from the report.\"\"\"\n",
        "  model=genai.GenerativeModel(\"gemini-1.5-flash\")\n",
        "  prompt=f\"Extract key insights from the following health report:\\n\\n{text}\"\n",
        "  response=model.generate_content(prompt)\n",
        "  return response.text\n",
        "pdf_file=\"health_report.pdf\"\n",
        "extracted_text=extract_text_from_pdf(pdf_file)\n",
        "insights=extract_health_insights(extracted_text)\n",
        "print(\"Key insights:\\n\",insights)"
      ],
      "metadata": {
        "colab": {
          "base_uri": "https://localhost:8080/",
          "height": 505
        },
        "id": "CcMcgHHIPFeW",
        "outputId": "741f8420-5897-40c4-c1c7-21f64f7ed8cc"
      },
      "execution_count": null,
      "outputs": [
        {
          "output_type": "stream",
          "name": "stdout",
          "text": [
            "Key insights:\n",
            " Key Insights from Mr. Kishan Goud's Health Report (MR2100003157):\n",
            "\n",
            "**Infectious Diseases:**\n",
            "\n",
            "* **Widal Test:** Elevated titers for *Salmonella Typhi* \"O\" (1:160) and \"H\" (1:80) suggest a possible past or present typhoid fever infection.  The reference range is 1:20, indicating values significantly above normal.  *Salmonella Paratyphi* \"AH\" and \"BH\" are within the normal range.\n",
            "* **Dengue Serology:** Negative results for Dengue NS1 antigen, IgG, and IgM antibodies rule out a current or recent dengue infection.\n",
            "* **Malaria:** Rapid Malaria Test (for *Plasmodium vivax* and *Plasmodium falciparum*) is negative, ruling out malaria.\n",
            "\n",
            "**Hematology:**\n",
            "\n",
            "* **Complete Blood Picture (CBC):**  Hemoglobin, RBC, WBC, and platelet counts are within normal ranges.  Differential count shows slightly lower lymphocytes (31%) than the lower end of the normal range (20-40%). All other differential counts are within the normal range.  The peripheral blood smear shows normal findings.\n",
            "* **Erythrocyte Sedimentation Rate (ESR):** Elevated ESR (26 mm/hr in the first hour and 52 mm/hr in the second hour; normal range 0-8 mm/hr in the first hour) suggests inflammation or infection.  This correlates with the elevated *Salmonella Typhi* titers.\n",
            "* **HbA1c:**  5.4% (within the normal non-diabetic range of 4-6%), indicating good blood glucose control.\n",
            "\n",
            "**Biochemistry:**\n",
            "\n",
            "* **Liver Function Test (LFT):**  All liver function parameters (bilirubin, alkaline phosphatase, SGOT, SGPT, total protein, albumin, globulin, and A/G ratio) are within normal limits.\n",
            "* **Serum Electrolytes:** Serum sodium is slightly low (122 mmol/l; normal range 135-146 mmol/l), while potassium and chloride are within normal ranges.\n",
            "* **Serum Creatinine:** Within normal range (0.8 mg/dl; normal range 0.6-1.25 mg/dl), indicating normal kidney function.\n",
            "* **Random Blood Glucose:**  The report does not provide a value.  However, the HbA1c suggests good glucose control.\n",
            "\n",
            "\n",
            "**Overall:**\n",
            "\n",
            "The most significant finding is the elevated *Salmonella Typhi* titers suggestive of typhoid fever. The elevated ESR supports the presence of inflammation.  The slightly low serum sodium warrants monitoring. All other test results are within normal ranges or indicate good health parameters.  Further investigation may be needed to confirm or rule out active typhoid infection based on clinical presentation and possibly other tests.\n",
            "\n"
          ]
        }
      ]
    },
    {
      "cell_type": "code",
      "source": [
        "def summarize_health_report(text):\n",
        "  \"\"\"Summarize the health report using Gemini AI.\"\"\"\n",
        "  model=genai.GenerativeModel(\"gemini-1.5-flash\")\n",
        "  prompt=f\"Summarize the following health report in a concise manner:\\n\\n{text}\"\n",
        "  response=model.generate_content(prompt)\n",
        "  return response.text\n",
        "summary=summarize_health_report(extracted_text)\n",
        "print(\"Summary:\\n\",summary)"
      ],
      "metadata": {
        "id": "iSnxy8evRAjT",
        "colab": {
          "base_uri": "https://localhost:8080/",
          "height": 89
        },
        "outputId": "02e95f7e-9b7f-4f76-d9fd-958e62603ce2"
      },
      "execution_count": 8,
      "outputs": [
        {
          "output_type": "stream",
          "name": "stdout",
          "text": [
            "Summary:\n",
            " Mr. Kishan Goud's (MR2100003157) blood tests on 01/02/2021 showed:  Elevated ESR (26/52 mm/hr), slightly low serum sodium (122 mmol/l), and Widal test results suggestive of past exposure to *Salmonella Typhi* (1:160 O, 1:80 H).  All other tests, including dengue serology, malaria, complete blood count (within normal limits), HbA1c, liver function tests, and serum electrolytes (except sodium), were within normal ranges.\n",
            "\n"
          ]
        }
      ]
    },
    {
      "cell_type": "code",
      "source": [
        "def detect_abnormalities(text):\n",
        "  \"\"\"Analyzes lab text results and flags abnormal values.\"\"\"\n",
        "  model=genai.GenerativeModel(\"gemini-1.5-flash\")\n",
        "  prompt=f\"Analyze the lab test results in the following health report and highlight any abnormal values:\\n\\n{text}\"\n",
        "  response=model.generate_content(prompt)\n",
        "  return response.text\n",
        "abnormalities=detect_abnormalities(extracted_text)\n",
        "print(\"Potential Abnormalities:\\n\",abnormalities)"
      ],
      "metadata": {
        "colab": {
          "base_uri": "https://localhost:8080/",
          "height": 384
        },
        "id": "asz_9e4hTxDy",
        "outputId": "20a7f0f6-802e-4e10-ca57-0fcf10e57bd7"
      },
      "execution_count": 9,
      "outputs": [
        {
          "output_type": "stream",
          "name": "stdout",
          "text": [
            "Potential Abnormalities:\n",
            " Based on the provided lab results for Mr. Kishan Goud, the following values fall outside the provided biological reference ranges, indicating potential abnormalities:\n",
            "\n",
            "* **Widal Test:**  S. Typhi \"O\" (1:160) and S. Typhi \"H\" (1:80) are both significantly higher than the reference range (1:20).  This suggests a possible past or present infection with *Salmonella Typhi*, the bacteria that causes typhoid fever.  Further investigation would be needed to confirm an active infection.\n",
            "\n",
            "* **ESR (Erythrocyte Sedimentation Rate):** Both the 1st hour (26 mm/hr) and 2nd hour (52 mm/hr) values are considerably elevated above the normal range (0-8 mm/hr for the 1st hour). Elevated ESR often indicates inflammation or infection somewhere in the body.\n",
            "\n",
            "* **Serum Sodium:** 122 mmol/l is below the reference range of 135-146 mmol/l. This indicates hyponatremia (low sodium levels in the blood), which can have several causes and requires further evaluation.\n",
            "\n",
            "* **Serum Chloride:** 97 mmol/l is slightly below the reference range of 98-107 mmol/l. While only slightly outside the range, it warrants consideration in conjunction with the hyponatremia.\n",
            "\n",
            "\n",
            "**Values within or at the borderline of the reference ranges that still warrant attention in the clinical context:**\n",
            "\n",
            "* **Platelet Count:** 2.0 lakhs/cumm is at the lower end of the reference range (1.5 - 4.5 lakhs/cumm). While technically within the range, it's closer to the lower limit and might be considered if there are other clinical indications of low platelet count (thrombocytopenia).\n",
            "\n",
            "* **Lymphocytes:** 31% is at the upper end of the reference range (20-40%).  This might be normal but could be investigated further depending on the clinical picture.\n",
            "\n",
            "It's crucial to understand that these are only lab results.  A proper diagnosis requires a comprehensive clinical evaluation by a physician who can consider these results in the context of the patient's medical history, physical examination, and other relevant factors.  The significantly elevated Widal test and ESR results strongly suggest further investigation into possible infections.  The hyponatremia also needs further investigation to determine its underlying cause.\n",
            "\n"
          ]
        }
      ]
    },
    {
      "cell_type": "code",
      "source": [
        "def explain_medical_terms(text):\n",
        "  \"\"\"Ask Gemini AI to simplify medical terms for patient understanding.\"\"\"\n",
        "  model=genai.GenerativeModel(\"gemini-1.5-flash\")\n",
        "  prompt=f\"Explain the medical terms in the following health report in simple language:\\n\\n{text}\"\n",
        "  response=model.generate_content(prompt)\n",
        "  return response.text\n",
        "explaination=explain_medical_terms(extracted_text)\n",
        "print(\"Simplified Explaination:\\n\",explaination)"
      ],
      "metadata": {
        "colab": {
          "base_uri": "https://localhost:8080/",
          "height": 870
        },
        "id": "2ghPiloxU_lK",
        "outputId": "68991bda-cea1-4046-b853-e548c9e57ebd"
      },
      "execution_count": 10,
      "outputs": [
        {
          "output_type": "stream",
          "name": "stdout",
          "text": [
            "Simplified Explaination:\n",
            " This report shows the results of various blood tests performed on Mr. Kishan Goud. Let's break down the medical terms:\n",
            "\n",
            "**1. WIDAL TEST:** This test checks for antibodies against *Salmonella Typhi* and *Salmonella Paratyphi*, bacteria that cause typhoid fever and paratyphoid fever, respectively.  The numbers (e.g., 1:160) represent the dilution of the sample at which antibodies are still detected.  Higher numbers suggest a higher likelihood of infection.  In this case:\n",
            "\n",
            "* **S. Typhi \"O\" 1:160:** Suggests a possible past or present infection with *Salmonella Typhi*.  The \"O\" refers to a specific type of antigen on the bacteria.\n",
            "* **S. Typhi \"H\" 1:80:** Also suggests possible past or present *Salmonella Typhi* infection.  The \"H\" refers to another type of antigen.\n",
            "* **S. Paratyphi \"AH\" 1:20:** Within the normal range, suggesting no current infection with this type of *Salmonella*.\n",
            "* **S. Paratyphi \"BH\" 1:20:** Within the normal range, suggesting no current infection with this type of *Salmonella*.\n",
            "\n",
            "**2. DENGUE SEROLOGY:** This tests for dengue fever, a viral infection spread by mosquitoes.\n",
            "\n",
            "* **Dengue NS1 Antigen:** Negative – No active dengue virus detected.\n",
            "* **Dengue IgG:** Negative –  No past infection with dengue virus detected.  IgG antibodies appear after the initial infection.\n",
            "* **Dengue IgM:** Negative – No recent infection with dengue virus detected. IgM antibodies appear during the acute phase of infection.\n",
            "\n",
            "**3. ERYTHROCYTE SEDIMENTATION RATE (ESR):** This measures how quickly red blood cells settle in a test tube.  A faster rate (higher ESR) can indicate inflammation or infection in the body.  Mr. Goud's ESR is elevated (26 mm/hr in the first hour, 52 mm/hr in the second), suggesting possible inflammation.\n",
            "\n",
            "**4. RAPID MALARIA TEST:** This is a quick test to detect malaria parasites in the blood.  Both *Plasmodium vivax* (P.V.) and *Plasmodium falciparum* (P.F.) tests are negative, indicating no malaria infection.\n",
            "\n",
            "**5. COMPLETE BLOOD PICTURE (CBC):** This is a comprehensive blood test that includes:\n",
            "\n",
            "* **Hemoglobin (Hb):** 13.6 gms% (within normal range) – measures the oxygen-carrying capacity of red blood cells.\n",
            "* **Red Blood Cells (RBC):** 4.3 mill/cumm (slightly low, but within the acceptable range) – measures the number of red blood cells.\n",
            "* **White Blood Cells (WBC):** 7,200 cells/cumm (within normal range) – measures the number of white blood cells, which fight infection.\n",
            "* **Platelet Count:** 2.0 lakhs/cumm (within normal range) – measures the number of platelets, involved in blood clotting.\n",
            "* **Packed Cell Volume (PCV):** 40.5% (within normal range) – the percentage of blood volume occupied by red blood cells.\n",
            "* **Differential Count:** This breaks down the types of white blood cells.  All values are within the normal ranges.\n",
            "\n",
            "**6. HbA1c:** This measures your average blood sugar level over the past 2-3 months. Mr. Goud's level is 5.4%, indicating good blood sugar control and no diabetes.\n",
            "\n",
            "**7. SERUM CREATININE:** This measures creatinine levels in the blood, which indicates kidney function.  Mr. Goud's level is 0.8 mg/dl (within normal range).\n",
            "\n",
            "**8. RANDOM BLOOD GLUCOSE:** This is a measure of blood sugar at a particular time. His level is within the normal fasting range.  However, more tests would be needed to determine if he has diabetes or not.\n",
            "\n",
            "**9. LIVER FUNCTION TEST (LFT):** These tests assess the health of the liver.  All values are within normal ranges, indicating normal liver function.  This includes:\n",
            "\n",
            "* **Total Bilirubin, Direct Bilirubin, Indirect Bilirubin:**  All within normal ranges. Bilirubin is a breakdown product of red blood cells.\n",
            "* **Alkaline Phosphatase (ALP):** Within normal range, an enzyme found in the liver and bones.\n",
            "* **Aspartate Aminotransferase (AST) (SGOT):** Within normal range, an enzyme found in the liver and other tissues.\n",
            "* **Alanine Aminotransferase (ALT) (SGPT):** Within normal range, an enzyme found primarily in the liver.\n",
            "* **Total Protein, Albumin, Globulin, A/G Ratio:** All within normal ranges, showing normal protein levels in the blood.\n",
            "\n",
            "**10. SERUM ELECTROLYTES:** These tests measure the levels of sodium, potassium, and chloride in the blood.  Sodium is slightly low, while potassium and chloride are within normal ranges.\n",
            "\n",
            "\n",
            "**In summary:** While some results show minor deviations from the ideal, most of Mr. Kishan Goud's blood test results fall within the normal ranges. The slightly elevated ESR warrants further investigation to determine the cause of the inflammation.  The Widal test suggests a *possible* past or present typhoid infection, but this would need to be confirmed by the physician.  It's important to discuss these results with his doctor for proper interpretation and further medical advice.\n",
            "\n"
          ]
        }
      ]
    },
    {
      "cell_type": "code",
      "source": [
        "def ask_gemini_about_report(text,question):\n",
        "  \"\"\"Allows users to ask questions about their health report.\"\"\"\n",
        "  model=genai.GenerativeModel(\"gemini-1.5-flash\")\n",
        "  prompt=f\"The following is a health report:\\n\\n{text}\\n\\nAnswer the following question based on the report:\\n{question}\"\n",
        "  response=model.generate_content(prompt)\n",
        "  return response.text\n",
        "question=\"What is the patient's diagnosis?\"\n",
        "answer=ask_gemini_about_report(extracted_text,question)\n",
        "print(\"Answer:\\n\",answer)"
      ],
      "metadata": {
        "colab": {
          "base_uri": "https://localhost:8080/",
          "height": 89
        },
        "id": "P9RLWq1PWkMx",
        "outputId": "6b70297b-8e7b-4c6a-c432-df56ec457e76"
      },
      "execution_count": 11,
      "outputs": [
        {
          "output_type": "stream",
          "name": "stdout",
          "text": [
            "Answer:\n",
            " The provided lab report does not offer a diagnosis.  It presents test results from various blood analyses.  Some values are outside the reference ranges (e.g., elevated ESR), but this alone doesn't establish a diagnosis.  A doctor would interpret these results in conjunction with the patient's symptoms and medical history to arrive at a diagnosis.\n",
            "\n"
          ]
        }
      ]
    },
    {
      "cell_type": "code",
      "source": [],
      "metadata": {
        "id": "tARpFxu7Xkln"
      },
      "execution_count": null,
      "outputs": []
    }
  ]
}